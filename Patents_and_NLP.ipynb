{
 "metadata": {
  "name": "",
  "signature": "sha256:a7ca9741c879c3adee6bae3fa394c1a65beb1588b7a9c5ce5171627c28dc3adc"
 },
 "nbformat": 3,
 "nbformat_minor": 0,
 "worksheets": [
  {
   "cells": [
    {
     "cell_type": "markdown",
     "metadata": {},
     "source": [
      "# Large scale with NLTK\n",
      "\n",
      "- best approach appears to be hadoop streaming\n",
      "http://datacommunitydc.org/blog/2013/05/nltk-hadoop/\n",
      "http://blog.cloudera.com/blog/2010/03/natural-language-processing-with-hadoop-and-python/\n",
      "\n",
      "## Steps\n",
      "\n",
      "1. run basic workflow on some dataset locally\n",
      "2. install hadoop streaming\n",
      "3. run the basic workflow on hadoop streaming\n",
      "\n",
      "## Installing\n",
      "\n",
      "- sampa:\n",
      "```sh\n",
      "pip install nltk\n",
      "export NLTK_DATA=/sampa/share/nltk_data\n",
      "python -m nltk.downloader book -d $NLTK_DATA\n",
      "```\n",
      "\n",
      "## Stuff\n",
      "- corpora: http://www.nltk.org/book/ch02.html\n",
      "- cosine similarity of tfidf of documents \n",
      "    - tfidf example http://www.cs.duke.edu/courses/spring14/compsci290/assignments/lab02.html\n",
      "    - cosine sim api: http://scikit-learn.org/stable/modules/metrics.html\n",
      "    - cosine sim in mr: http://halalhassan.wordpress.com/2013/08/31/cosine-similarity-in-mapreduce-hadoop/\n",
      "    \n",
      "## Ideas\n",
      "- compare apps to grants in http://www.google.com/googlebooks/uspto-patents.html for classifier labeling"
     ]
    },
    {
     "cell_type": "markdown",
     "metadata": {},
     "source": [
      "# Citations\n",
      "- computing a Least common ancestor on JSTOR citations\n",
      "    - MyriaL really slow because reachable graph then all common ancestors then pick one\n",
      "- ideas:\n",
      "    - socialite style recursive aggregates with delta stepping?\n",
      "    - Grappa directly\n",
      "- according to literature, all pairs LCA seems complexity is n^3 but you can get to n^2.xx"
     ]
    },
    {
     "cell_type": "markdown",
     "metadata": {},
     "source": [
      "# Tasks \n",
      "\n",
      "## Zach\n",
      "tf-idf on hadoop streaming standalone mode\n",
      "\n",
      "## Brandon\n",
      "get hadoop streaming working distributed on sampa cluster\n",
      "\n",
      "\n",
      "## Need\n",
      "the claims data\n"
     ]
    },
    {
     "cell_type": "markdown",
     "metadata": {},
     "source": [
      "# Log\n",
      "- 10/27/2014\n",
      "    - tfidf working outside of hadoop streaming\n",
      "- 11/10/2014\n",
      "    - tfidf working in hadoop streaming single node\n",
      "    - goal for next week: cosine similarity step working"
     ]
    },
    {
     "cell_type": "markdown",
     "metadata": {},
     "source": [
      "# Lit Review\n",
      "- _Similarity analysis of patent claims using natural language processing techniques_\n",
      "  - with the data from Google patent search do they specify a way to judge goodness of the similarity output?\n",
      "- Applying key phrase extraction to aid invalidity search\n",
      "- An algorithm for classifying articles and patent documents using link structure\n",
      "- Is DeepDive useful to us? http://deepdive.stanford.edu/"
     ]
    },
    {
     "cell_type": "code",
     "collapsed": false,
     "input": [],
     "language": "python",
     "metadata": {},
     "outputs": []
    },
    {
     "cell_type": "markdown",
     "metadata": {},
     "source": [
      "# Invalidation problem\n",
      "\n",
      "- Can we classify a patent app as invalid or valid?\n",
      "- Use grants of apps as labels\n",
      "- use similarities as features\n",
      "\n",
      "## First steps\n",
      "\n",
      "- [ ] see if we can locate grants for each application\n",
      "- [ ] try naive bayes where each evidence is a similarity value with a document\n",
      "\n",
      "## Labels?\n",
      "\n",
      "- \"relevance judgements\" have been used as labels in creating queries for invalidation\n",
      "- \"relevance judgements are an important source of information, but they must also be\n",
      "considered carefully, as different forms of patent search have potentially different sets of relevant\n",
      "documents.\" [Patent Information Retrieval](http://www.ir-facility.org/c/document_library/get_file?uuid=a176a998-bfc6-41a4-b0d2-852784e3e720&groupId=10156)\n",
      "- \"If you were writing a report on the subject of the topic and would use the information contained in the document in the report, then the document is relevant\" [nist, English Relevance Judgements](http://trec.nist.gov/data/reljudge_eng.html)"
     ]
    },
    {
     "cell_type": "markdown",
     "metadata": {},
     "source": [
      "# Processing claims\n",
      "\n",
      "- since many claims say (\"as described/illustrated\") we can also use the `description` or `description-of-drawing`"
     ]
    },
    {
     "cell_type": "code",
     "collapsed": false,
     "input": [],
     "language": "python",
     "metadata": {},
     "outputs": []
    }
   ],
   "metadata": {}
  }
 ]
}